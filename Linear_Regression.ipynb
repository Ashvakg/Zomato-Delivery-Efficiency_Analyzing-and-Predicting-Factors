{
 "cells": [
  {
   "cell_type": "code",
   "execution_count": 95,
   "id": "7ec841db",
   "metadata": {},
   "outputs": [],
   "source": [
    "import pandas as pd\n",
    "from sklearn.model_selection import train_test_split\n",
    "from sklearn.linear_model import LinearRegression\n",
    "from sklearn.metrics import mean_absolute_error"
   ]
  },
  {
   "cell_type": "code",
   "execution_count": 96,
   "id": "3caaa9eb",
   "metadata": {},
   "outputs": [],
   "source": [
    "data = pd.read_csv('zomato_cleaned2.csv')"
   ]
  },
  {
   "cell_type": "code",
   "execution_count": 97,
   "id": "2fb0d5d3",
   "metadata": {},
   "outputs": [
    {
     "name": "stdout",
     "output_type": "stream",
     "text": [
      "<class 'pandas.core.frame.DataFrame'>\n",
      "RangeIndex: 45584 entries, 0 to 45583\n",
      "Data columns (total 25 columns):\n",
      " #   Column                       Non-Null Count  Dtype  \n",
      "---  ------                       --------------  -----  \n",
      " 0   ID                           45584 non-null  object \n",
      " 1   Delivery_person_ID           45584 non-null  object \n",
      " 2   City_Name                    45584 non-null  object \n",
      " 3   Delivery_person_Age          45584 non-null  float64\n",
      " 4   Delivery_person_Ratings      45584 non-null  float64\n",
      " 5   Restaurant_latitude          45584 non-null  float64\n",
      " 6   Restaurant_longitude         45584 non-null  float64\n",
      " 7   Delivery_location_latitude   45584 non-null  float64\n",
      " 8   Delivery_location_longitude  45584 non-null  float64\n",
      " 9   Order_Date                   45584 non-null  object \n",
      " 10  Time_Orderd                  43853 non-null  object \n",
      " 11  Time_Order_picked            45584 non-null  object \n",
      " 12  Weather_conditions           45584 non-null  object \n",
      " 13  Road_traffic_density         45584 non-null  object \n",
      " 14  Vehicle_condition            45584 non-null  int64  \n",
      " 15  Type_of_order                45584 non-null  object \n",
      " 16  Type_of_vehicle              45584 non-null  object \n",
      " 17  multiple_deliveries          45584 non-null  int64  \n",
      " 18  Delivery_Status              45584 non-null  object \n",
      " 19  Festival                     45584 non-null  object \n",
      " 20  City_Type                    45584 non-null  object \n",
      " 21  Time_taken (min)             45584 non-null  int64  \n",
      " 22  Time_taken_per_hr            45584 non-null  float64\n",
      " 23  Distance_km                  45584 non-null  float64\n",
      " 24  Speed_in_km/hr               45584 non-null  float64\n",
      "dtypes: float64(9), int64(3), object(13)\n",
      "memory usage: 8.7+ MB\n"
     ]
    }
   ],
   "source": [
    "data.info()"
   ]
  },
  {
   "cell_type": "code",
   "execution_count": 98,
   "id": "df2b6287",
   "metadata": {},
   "outputs": [
    {
     "data": {
      "text/html": [
       "<div>\n",
       "<style scoped>\n",
       "    .dataframe tbody tr th:only-of-type {\n",
       "        vertical-align: middle;\n",
       "    }\n",
       "\n",
       "    .dataframe tbody tr th {\n",
       "        vertical-align: top;\n",
       "    }\n",
       "\n",
       "    .dataframe thead th {\n",
       "        text-align: right;\n",
       "    }\n",
       "</style>\n",
       "<table border=\"1\" class=\"dataframe\">\n",
       "  <thead>\n",
       "    <tr style=\"text-align: right;\">\n",
       "      <th></th>\n",
       "      <th>ID</th>\n",
       "      <th>Delivery_person_ID</th>\n",
       "      <th>City_Name</th>\n",
       "      <th>Delivery_person_Age</th>\n",
       "      <th>Delivery_person_Ratings</th>\n",
       "      <th>Restaurant_latitude</th>\n",
       "      <th>Restaurant_longitude</th>\n",
       "      <th>Delivery_location_latitude</th>\n",
       "      <th>Delivery_location_longitude</th>\n",
       "      <th>Order_Date</th>\n",
       "      <th>...</th>\n",
       "      <th>Type_of_order</th>\n",
       "      <th>Type_of_vehicle</th>\n",
       "      <th>multiple_deliveries</th>\n",
       "      <th>Delivery_Status</th>\n",
       "      <th>Festival</th>\n",
       "      <th>City_Type</th>\n",
       "      <th>Time_taken (min)</th>\n",
       "      <th>Time_taken_per_hr</th>\n",
       "      <th>Distance_km</th>\n",
       "      <th>Speed_in_km/hr</th>\n",
       "    </tr>\n",
       "  </thead>\n",
       "  <tbody>\n",
       "    <tr>\n",
       "      <th>0</th>\n",
       "      <td>0xcdcd</td>\n",
       "      <td>DEHRES17DEL01</td>\n",
       "      <td>Delhi</td>\n",
       "      <td>36.0</td>\n",
       "      <td>4.2</td>\n",
       "      <td>30.327968</td>\n",
       "      <td>78.046106</td>\n",
       "      <td>30.397968</td>\n",
       "      <td>78.116106</td>\n",
       "      <td>2/12/2022</td>\n",
       "      <td>...</td>\n",
       "      <td>Snack</td>\n",
       "      <td>motorcycle</td>\n",
       "      <td>3</td>\n",
       "      <td>Delivered</td>\n",
       "      <td>No</td>\n",
       "      <td>Metropolitian</td>\n",
       "      <td>46</td>\n",
       "      <td>0.766667</td>\n",
       "      <td>10.280582</td>\n",
       "      <td>13.409455</td>\n",
       "    </tr>\n",
       "    <tr>\n",
       "      <th>1</th>\n",
       "      <td>0xd987</td>\n",
       "      <td>KOCRES16DEL01</td>\n",
       "      <td>Kochi</td>\n",
       "      <td>21.0</td>\n",
       "      <td>4.7</td>\n",
       "      <td>10.003064</td>\n",
       "      <td>76.307589</td>\n",
       "      <td>10.043064</td>\n",
       "      <td>76.347589</td>\n",
       "      <td>2/13/2022</td>\n",
       "      <td>...</td>\n",
       "      <td>Meal</td>\n",
       "      <td>motorcycle</td>\n",
       "      <td>1</td>\n",
       "      <td>Delivered</td>\n",
       "      <td>No</td>\n",
       "      <td>Metropolitian</td>\n",
       "      <td>23</td>\n",
       "      <td>0.383333</td>\n",
       "      <td>6.242319</td>\n",
       "      <td>16.284310</td>\n",
       "    </tr>\n",
       "    <tr>\n",
       "      <th>2</th>\n",
       "      <td>0x2784</td>\n",
       "      <td>PUNERES13DEL03</td>\n",
       "      <td>Pune</td>\n",
       "      <td>23.0</td>\n",
       "      <td>4.7</td>\n",
       "      <td>18.562450</td>\n",
       "      <td>73.916619</td>\n",
       "      <td>18.652450</td>\n",
       "      <td>74.006619</td>\n",
       "      <td>3/4/2022</td>\n",
       "      <td>...</td>\n",
       "      <td>Drinks</td>\n",
       "      <td>scooter</td>\n",
       "      <td>1</td>\n",
       "      <td>Delivered</td>\n",
       "      <td>No</td>\n",
       "      <td>Metropolitian</td>\n",
       "      <td>21</td>\n",
       "      <td>0.350000</td>\n",
       "      <td>13.787860</td>\n",
       "      <td>39.393886</td>\n",
       "    </tr>\n",
       "    <tr>\n",
       "      <th>3</th>\n",
       "      <td>0xc8b6</td>\n",
       "      <td>LUDHRES15DEL02</td>\n",
       "      <td>Ludhiana</td>\n",
       "      <td>34.0</td>\n",
       "      <td>4.3</td>\n",
       "      <td>30.899584</td>\n",
       "      <td>75.809346</td>\n",
       "      <td>30.919584</td>\n",
       "      <td>75.829346</td>\n",
       "      <td>2/13/2022</td>\n",
       "      <td>...</td>\n",
       "      <td>Buffet</td>\n",
       "      <td>motorcycle</td>\n",
       "      <td>0</td>\n",
       "      <td>Failed</td>\n",
       "      <td>No</td>\n",
       "      <td>Metropolitian</td>\n",
       "      <td>20</td>\n",
       "      <td>0.333333</td>\n",
       "      <td>2.930258</td>\n",
       "      <td>8.790773</td>\n",
       "    </tr>\n",
       "    <tr>\n",
       "      <th>4</th>\n",
       "      <td>0xdb64</td>\n",
       "      <td>KNPRES14DEL02</td>\n",
       "      <td>Kanpur</td>\n",
       "      <td>24.0</td>\n",
       "      <td>4.7</td>\n",
       "      <td>26.463504</td>\n",
       "      <td>80.372929</td>\n",
       "      <td>26.593504</td>\n",
       "      <td>80.502929</td>\n",
       "      <td>2/14/2022</td>\n",
       "      <td>...</td>\n",
       "      <td>Snack</td>\n",
       "      <td>scooter</td>\n",
       "      <td>1</td>\n",
       "      <td>Delivered</td>\n",
       "      <td>No</td>\n",
       "      <td>Metropolitian</td>\n",
       "      <td>41</td>\n",
       "      <td>0.683333</td>\n",
       "      <td>19.396618</td>\n",
       "      <td>28.385295</td>\n",
       "    </tr>\n",
       "  </tbody>\n",
       "</table>\n",
       "<p>5 rows × 25 columns</p>\n",
       "</div>"
      ],
      "text/plain": [
       "       ID Delivery_person_ID City_Name  Delivery_person_Age  \\\n",
       "0  0xcdcd      DEHRES17DEL01     Delhi                 36.0   \n",
       "1  0xd987      KOCRES16DEL01     Kochi                 21.0   \n",
       "2  0x2784     PUNERES13DEL03      Pune                 23.0   \n",
       "3  0xc8b6     LUDHRES15DEL02  Ludhiana                 34.0   \n",
       "4  0xdb64      KNPRES14DEL02    Kanpur                 24.0   \n",
       "\n",
       "   Delivery_person_Ratings  Restaurant_latitude  Restaurant_longitude  \\\n",
       "0                      4.2            30.327968             78.046106   \n",
       "1                      4.7            10.003064             76.307589   \n",
       "2                      4.7            18.562450             73.916619   \n",
       "3                      4.3            30.899584             75.809346   \n",
       "4                      4.7            26.463504             80.372929   \n",
       "\n",
       "   Delivery_location_latitude  Delivery_location_longitude Order_Date  ...  \\\n",
       "0                   30.397968                    78.116106  2/12/2022  ...   \n",
       "1                   10.043064                    76.347589  2/13/2022  ...   \n",
       "2                   18.652450                    74.006619   3/4/2022  ...   \n",
       "3                   30.919584                    75.829346  2/13/2022  ...   \n",
       "4                   26.593504                    80.502929  2/14/2022  ...   \n",
       "\n",
       "  Type_of_order Type_of_vehicle multiple_deliveries Delivery_Status  Festival  \\\n",
       "0         Snack      motorcycle                   3       Delivered        No   \n",
       "1          Meal      motorcycle                   1       Delivered        No   \n",
       "2        Drinks         scooter                   1       Delivered        No   \n",
       "3        Buffet      motorcycle                   0          Failed        No   \n",
       "4         Snack         scooter                   1       Delivered        No   \n",
       "\n",
       "       City_Type Time_taken (min)  Time_taken_per_hr Distance_km  \\\n",
       "0  Metropolitian               46           0.766667   10.280582   \n",
       "1  Metropolitian               23           0.383333    6.242319   \n",
       "2  Metropolitian               21           0.350000   13.787860   \n",
       "3  Metropolitian               20           0.333333    2.930258   \n",
       "4  Metropolitian               41           0.683333   19.396618   \n",
       "\n",
       "  Speed_in_km/hr  \n",
       "0      13.409455  \n",
       "1      16.284310  \n",
       "2      39.393886  \n",
       "3       8.790773  \n",
       "4      28.385295  \n",
       "\n",
       "[5 rows x 25 columns]"
      ]
     },
     "execution_count": 98,
     "metadata": {},
     "output_type": "execute_result"
    }
   ],
   "source": [
    "data.head()"
   ]
  },
  {
   "cell_type": "code",
   "execution_count": 99,
   "id": "f99b1f87",
   "metadata": {},
   "outputs": [],
   "source": [
    "data['Order_Date'] = pd.to_datetime(data['Order_Date'])\n",
    "data['Order_DayOfWeek'] = data['Order_Date'].dt.dayofweek\n",
    "data['Order_Hour'] = data['Order_Date'].dt.hour\n",
    "data['Distance_from_restaurant'] = ((data['Restaurant_latitude'] - data['Delivery_location_latitude']) ** 2 + (data['Restaurant_longitude'] - data['Delivery_location_longitude']) ** 2) ** 0.5"
   ]
  },
  {
   "cell_type": "code",
   "execution_count": 101,
   "id": "9ceecc36",
   "metadata": {},
   "outputs": [],
   "source": [
    "features = ['Delivery_person_Age', 'Delivery_person_Ratings', 'Vehicle_condition', 'Distance_km']\n",
    "target = 'Time_taken (min)'"
   ]
  },
  {
   "cell_type": "code",
   "execution_count": 102,
   "id": "496f5e88",
   "metadata": {},
   "outputs": [],
   "source": [
    "X = data[features]\n",
    "y = data[target]"
   ]
  },
  {
   "cell_type": "markdown",
   "id": "2d44bd67",
   "metadata": {},
   "source": [
    "If extending convert the categorical values using one hot encoding"
   ]
  },
  {
   "cell_type": "code",
   "execution_count": 103,
   "id": "fb3ff0bc",
   "metadata": {},
   "outputs": [],
   "source": [
    "X_train, X_test, y_train, y_test = train_test_split(X, y, test_size=0.2, random_state=42)"
   ]
  },
  {
   "cell_type": "code",
   "execution_count": 104,
   "id": "b7de2a44",
   "metadata": {},
   "outputs": [
    {
     "data": {
      "text/html": [
       "<style>#sk-container-id-3 {color: black;}#sk-container-id-3 pre{padding: 0;}#sk-container-id-3 div.sk-toggleable {background-color: white;}#sk-container-id-3 label.sk-toggleable__label {cursor: pointer;display: block;width: 100%;margin-bottom: 0;padding: 0.3em;box-sizing: border-box;text-align: center;}#sk-container-id-3 label.sk-toggleable__label-arrow:before {content: \"▸\";float: left;margin-right: 0.25em;color: #696969;}#sk-container-id-3 label.sk-toggleable__label-arrow:hover:before {color: black;}#sk-container-id-3 div.sk-estimator:hover label.sk-toggleable__label-arrow:before {color: black;}#sk-container-id-3 div.sk-toggleable__content {max-height: 0;max-width: 0;overflow: hidden;text-align: left;background-color: #f0f8ff;}#sk-container-id-3 div.sk-toggleable__content pre {margin: 0.2em;color: black;border-radius: 0.25em;background-color: #f0f8ff;}#sk-container-id-3 input.sk-toggleable__control:checked~div.sk-toggleable__content {max-height: 200px;max-width: 100%;overflow: auto;}#sk-container-id-3 input.sk-toggleable__control:checked~label.sk-toggleable__label-arrow:before {content: \"▾\";}#sk-container-id-3 div.sk-estimator input.sk-toggleable__control:checked~label.sk-toggleable__label {background-color: #d4ebff;}#sk-container-id-3 div.sk-label input.sk-toggleable__control:checked~label.sk-toggleable__label {background-color: #d4ebff;}#sk-container-id-3 input.sk-hidden--visually {border: 0;clip: rect(1px 1px 1px 1px);clip: rect(1px, 1px, 1px, 1px);height: 1px;margin: -1px;overflow: hidden;padding: 0;position: absolute;width: 1px;}#sk-container-id-3 div.sk-estimator {font-family: monospace;background-color: #f0f8ff;border: 1px dotted black;border-radius: 0.25em;box-sizing: border-box;margin-bottom: 0.5em;}#sk-container-id-3 div.sk-estimator:hover {background-color: #d4ebff;}#sk-container-id-3 div.sk-parallel-item::after {content: \"\";width: 100%;border-bottom: 1px solid gray;flex-grow: 1;}#sk-container-id-3 div.sk-label:hover label.sk-toggleable__label {background-color: #d4ebff;}#sk-container-id-3 div.sk-serial::before {content: \"\";position: absolute;border-left: 1px solid gray;box-sizing: border-box;top: 0;bottom: 0;left: 50%;z-index: 0;}#sk-container-id-3 div.sk-serial {display: flex;flex-direction: column;align-items: center;background-color: white;padding-right: 0.2em;padding-left: 0.2em;position: relative;}#sk-container-id-3 div.sk-item {position: relative;z-index: 1;}#sk-container-id-3 div.sk-parallel {display: flex;align-items: stretch;justify-content: center;background-color: white;position: relative;}#sk-container-id-3 div.sk-item::before, #sk-container-id-3 div.sk-parallel-item::before {content: \"\";position: absolute;border-left: 1px solid gray;box-sizing: border-box;top: 0;bottom: 0;left: 50%;z-index: -1;}#sk-container-id-3 div.sk-parallel-item {display: flex;flex-direction: column;z-index: 1;position: relative;background-color: white;}#sk-container-id-3 div.sk-parallel-item:first-child::after {align-self: flex-end;width: 50%;}#sk-container-id-3 div.sk-parallel-item:last-child::after {align-self: flex-start;width: 50%;}#sk-container-id-3 div.sk-parallel-item:only-child::after {width: 0;}#sk-container-id-3 div.sk-dashed-wrapped {border: 1px dashed gray;margin: 0 0.4em 0.5em 0.4em;box-sizing: border-box;padding-bottom: 0.4em;background-color: white;}#sk-container-id-3 div.sk-label label {font-family: monospace;font-weight: bold;display: inline-block;line-height: 1.2em;}#sk-container-id-3 div.sk-label-container {text-align: center;}#sk-container-id-3 div.sk-container {/* jupyter's `normalize.less` sets `[hidden] { display: none; }` but bootstrap.min.css set `[hidden] { display: none !important; }` so we also need the `!important` here to be able to override the default hidden behavior on the sphinx rendered scikit-learn.org. See: https://github.com/scikit-learn/scikit-learn/issues/21755 */display: inline-block !important;position: relative;}#sk-container-id-3 div.sk-text-repr-fallback {display: none;}</style><div id=\"sk-container-id-3\" class=\"sk-top-container\"><div class=\"sk-text-repr-fallback\"><pre>LinearRegression()</pre><b>In a Jupyter environment, please rerun this cell to show the HTML representation or trust the notebook. <br />On GitHub, the HTML representation is unable to render, please try loading this page with nbviewer.org.</b></div><div class=\"sk-container\" hidden><div class=\"sk-item\"><div class=\"sk-estimator sk-toggleable\"><input class=\"sk-toggleable__control sk-hidden--visually\" id=\"sk-estimator-id-3\" type=\"checkbox\" checked><label for=\"sk-estimator-id-3\" class=\"sk-toggleable__label sk-toggleable__label-arrow\">LinearRegression</label><div class=\"sk-toggleable__content\"><pre>LinearRegression()</pre></div></div></div></div></div>"
      ],
      "text/plain": [
       "LinearRegression()"
      ]
     },
     "execution_count": 104,
     "metadata": {},
     "output_type": "execute_result"
    }
   ],
   "source": [
    "model = LinearRegression()\n",
    "model.fit(X_train, y_train)"
   ]
  },
  {
   "cell_type": "code",
   "execution_count": 105,
   "id": "433d5d6e",
   "metadata": {},
   "outputs": [],
   "source": [
    "predictions = model.predict(X_test)"
   ]
  },
  {
   "cell_type": "code",
   "execution_count": 106,
   "id": "624ebb26",
   "metadata": {},
   "outputs": [
    {
     "name": "stdout",
     "output_type": "stream",
     "text": [
      "Mean Absolute Error: 6.598707157456511\n"
     ]
    }
   ],
   "source": [
    "mae = mean_absolute_error(y_test, predictions)\n",
    "print(\"Mean Absolute Error:\", mae)"
   ]
  },
  {
   "cell_type": "code",
   "execution_count": 107,
   "id": "32b8a82e",
   "metadata": {},
   "outputs": [
    {
     "name": "stdout",
     "output_type": "stream",
     "text": [
      "Predicted Time for Delivery: 22.579705694498394 minutes\n"
     ]
    }
   ],
   "source": [
    "new_delivery = pd.DataFrame([[30, 4.5, 3, 15]], columns=features)\n",
    "predicted_time = model.predict(new_delivery)\n",
    "print(\"Predicted Time for Delivery:\", predicted_time[0], \"minutes\")"
   ]
  },
  {
   "cell_type": "code",
   "execution_count": 108,
   "id": "9f9eb1fc",
   "metadata": {},
   "outputs": [],
   "source": [
    "X_new = data[features] "
   ]
  },
  {
   "cell_type": "code",
   "execution_count": 109,
   "id": "8848a2bd",
   "metadata": {},
   "outputs": [],
   "source": [
    "predicted_delivery_time = model.predict(X_new)\n"
   ]
  },
  {
   "cell_type": "code",
   "execution_count": 110,
   "id": "7d66f08c",
   "metadata": {},
   "outputs": [],
   "source": [
    "data['Predicted_Delivery_Time'] = predicted_delivery_time"
   ]
  },
  {
   "cell_type": "code",
   "execution_count": 111,
   "id": "3424575b",
   "metadata": {},
   "outputs": [],
   "source": [
    "data.to_csv('zomato_predicted.csv', index=False)"
   ]
  },
  {
   "cell_type": "code",
   "execution_count": null,
   "id": "691ed51e",
   "metadata": {},
   "outputs": [],
   "source": []
  }
 ],
 "metadata": {
  "kernelspec": {
   "display_name": "Python 3 (ipykernel)",
   "language": "python",
   "name": "python3"
  },
  "language_info": {
   "codemirror_mode": {
    "name": "ipython",
    "version": 3
   },
   "file_extension": ".py",
   "mimetype": "text/x-python",
   "name": "python",
   "nbconvert_exporter": "python",
   "pygments_lexer": "ipython3",
   "version": "3.11.5"
  }
 },
 "nbformat": 4,
 "nbformat_minor": 5
}
