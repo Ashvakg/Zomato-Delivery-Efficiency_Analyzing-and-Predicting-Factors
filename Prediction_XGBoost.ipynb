{
 "cells": [
  {
   "cell_type": "code",
   "execution_count": null,
   "id": "40861003",
   "metadata": {},
   "outputs": [],
   "source": [
    "import pandas as pd\n",
    "from sklearn.model_selection import train_test_split\n",
    "from xgboost import XGBRegressor\n",
    "from sklearn.metrics import mean_absolute_error\n",
    "\n",
    "# Load the dataset\n",
    "data = pd.read_csv(\"zomato_predicted.csv\")  # Replace \"delivery_data.csv\" with your file name\n",
    "\n",
    "data['Time_Orderd'] = pd.to_datetime(data['Time_Orderd'], errors='coerce').dt.time\n",
    "data['Time_Order_picked'] = pd.to_datetime(data['Time_Order_picked'], errors='coerce').dt.time\n",
    "\n",
    "data['Time_Orderd'] = data['Time_Orderd'].fillna(data['Time_Order_picked'])\n",
    "\n",
    "# Select relevant features and target variable\n",
    "features = ['Delivery_person_Age', 'Delivery_person_Ratings', 'Weather_conditions', \n",
    "            'Road_traffic_density', 'Vehicle_condition', 'Type_of_vehicle', 'Distance_km','City_Type','Type_of_order']\n",
    "target = 'Time_taken (min)'\n",
    "\n",
    "X = data[features]\n",
    "y = data[target]\n",
    "\n",
    "# Perform one-hot encoding for categorical variables\n",
    "X = pd.get_dummies(X, columns=['Weather_conditions', 'Road_traffic_density', 'Type_of_vehicle','City_Type','Type_of_order'], drop_first=True)\n",
    "\n",
    "# Split the data into training and testing sets\n",
    "X_train, X_test, y_train, y_test = train_test_split(X, y, test_size=0.2, random_state=42)\n",
    "\n",
    "# Initialize XGBRegressor model\n",
    "model = XGBRegressor()\n",
    "\n",
    "# Train the model\n",
    "model.fit(X_train, y_train)\n",
    "\n",
    "# Make predictions on the entire dataset\n",
    "predictions = model.predict(X)\n",
    "\n",
    "# Add predicted time as a new column to the dataset\n",
    "data['Predicted_Time_taken (min)'] = predictions\n",
    "\n",
    "# Print the dataset with predicted time\n",
    "print(data)\n",
    "\n",
    "data.to_csv('zomato_predicted1.csv', index=False)\n"
   ]
  }
 ],
 "metadata": {
  "kernelspec": {
   "display_name": "Python 3 (ipykernel)",
   "language": "python",
   "name": "python3"
  },
  "language_info": {
   "codemirror_mode": {
    "name": "ipython",
    "version": 3
   },
   "file_extension": ".py",
   "mimetype": "text/x-python",
   "name": "python",
   "nbconvert_exporter": "python",
   "pygments_lexer": "ipython3",
   "version": "3.11.5"
  }
 },
 "nbformat": 4,
 "nbformat_minor": 5
}
